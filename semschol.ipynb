{
 "cells": [
  {
   "cell_type": "code",
   "execution_count": 1,
   "metadata": {},
   "outputs": [],
   "source": [
    "from diskcache import Cache\n",
    "import semanticscholar\n",
    "import re\n",
    "\n",
    "cache = Cache('temp/semantic_scholar_cache')\n",
    "\n",
    "sch = semanticscholar.SemanticScholar(timeout=25)\n",
    "\n",
    "class SemanticScholarPublication:\n",
    "    def __init__(self, **kwds):\n",
    "        for k, v in kwds.items():\n",
    "            setattr(self, k, v)\n",
    "\n",
    "\n",
    "def get_semantic_scholar_publications(user_id):\n",
    "    if user_id in cache:\n",
    "        return cache[user_id]\n",
    "\n",
    "    author = sch.get_author(user_id)\n",
    "\n",
    "    publications = []\n",
    "    all_papers = sch.get_papers([paper['paperId'] for paper in author['papers']])\n",
    "    for paper in all_papers:\n",
    "        # paper = sch.get_paper(paper['paperId'])\n",
    "        pub = SemanticScholarPublication(\n",
    "            title=paper['title'], date=paper['year']\n",
    "            )\n",
    "        if paper.url is not None:\n",
    "            pub.url = paper['url']\n",
    "        if paper.venue is not None:\n",
    "            pub.journal = paper['venue']\n",
    "        if paper.authors is not None:\n",
    "            authors = []\n",
    "            for author in paper['authors']:\n",
    "                authurl = f\"https://www.semanticscholar.org/author/{author['authorId']}\"\n",
    "                authname = author['name']\n",
    "                authors.append(f'<a href=\"{authurl}\">{authname}</a>')\n",
    "            if len(authors)>6:\n",
    "                authors = [authors[0], 'et al.']\n",
    "            pub.authors = ', '.join(authors)\n",
    "        publications.append(pub)\n",
    "\n",
    "    cache.set(user_id, publications, expire=24*60*60)\n",
    "    return publications"
   ]
  },
  {
   "cell_type": "code",
   "execution_count": 2,
   "metadata": {},
   "outputs": [],
   "source": [
    "author = sch.get_author(27620389)"
   ]
  },
  {
   "cell_type": "code",
   "execution_count": 4,
   "metadata": {},
   "outputs": [],
   "source": [
    "all_papers = sch.get_papers([paper['paperId'] for paper in author['papers']])"
   ]
  },
  {
   "cell_type": "code",
   "execution_count": 5,
   "metadata": {},
   "outputs": [],
   "source": [
    "paper = all_papers[0]"
   ]
  },
  {
   "cell_type": "code",
   "execution_count": 6,
   "metadata": {},
   "outputs": [
    {
     "data": {
      "text/plain": [
       "[{'authorId': '27620389', 'name': 'Jonathan X. Zheng'}]"
      ]
     },
     "execution_count": 6,
     "metadata": {},
     "output_type": "execute_result"
    }
   ],
   "source": [
    "paper.authors"
   ]
  },
  {
   "cell_type": "code",
   "execution_count": null,
   "metadata": {},
   "outputs": [],
   "source": []
  }
 ],
 "metadata": {
  "kernelspec": {
   "display_name": "nrweb",
   "language": "python",
   "name": "python3"
  },
  "language_info": {
   "codemirror_mode": {
    "name": "ipython",
    "version": 3
   },
   "file_extension": ".py",
   "mimetype": "text/x-python",
   "name": "python",
   "nbconvert_exporter": "python",
   "pygments_lexer": "ipython3",
   "version": "3.10.4"
  }
 },
 "nbformat": 4,
 "nbformat_minor": 2
}
